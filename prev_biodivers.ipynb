{
 "cells": [
  {
   "cell_type": "code",
   "execution_count": 3,
   "id": "007ce10e",
   "metadata": {},
   "outputs": [],
   "source": [
    "import pandas as pd\n",
    "import matplotlib.pyplot as plt\n",
    "import statsmodels.api as sm\n",
    "import numpy as np\n",
    "import seaborn as sns\n",
    "from sklearn.linear_model import LinearRegression\n",
    "import warnings\n",
    "warnings.filterwarnings('ignore')"
   ]
  },
  {
   "cell_type": "code",
   "execution_count": 4,
   "id": "09648d1e",
   "metadata": {},
   "outputs": [],
   "source": [
    "biodiv = pd.read_excel(\"/Users/giacomorossini/Desktop/IRONHACK/Project2/FINAL/aggregate_exstintion_measure.xlsx\")"
   ]
  },
  {
   "cell_type": "code",
   "execution_count": 5,
   "id": "418f9241",
   "metadata": {
    "scrolled": true
   },
   "outputs": [],
   "source": [
    "#pivot 'UPPER' and 'LOWER' as columns\n",
    "pivot_country_year = biodiv.pivot_table(index=['Country', 'Year'], columns='VAR', values='Value', aggfunc='mean').reset_index()\n",
    "\n",
    "#calculate the average of 'UPPER' and 'LOWER' for each country and year\n",
    "pivot_country_year['Country_Year_Average'] = pivot_country_year[['UPPER', 'LOWER']].mean(axis=1)"
   ]
  },
  {
   "cell_type": "code",
   "execution_count": 6,
   "id": "912fa759",
   "metadata": {},
   "outputs": [],
   "source": [
    "#applying time series on world to get the year and then mirror in the whole dataset\n",
    "pivot_country_year_world = pivot_country_year[pivot_country_year['Country']=='World']\n",
    "\n",
    "pivot_country_year_world['Year']=pd.to_datetime(pivot_country_year_world['Year'], format='%Y')\n",
    "pivot_country_year_world.index = pd.DatetimeIndex(pivot_country_year_world['Year'])"
   ]
  },
  {
   "cell_type": "code",
   "execution_count": 7,
   "id": "cb462867",
   "metadata": {},
   "outputs": [],
   "source": [
    "#First method using ARIMA\n",
    "\n",
    "from math import sqrt\n",
    "from statsmodels.tsa.arima.model import ARIMA\n",
    "from sklearn.metrics import mean_squared_error\n",
    " \n",
    "# evaluate an ARIMA model for a given order (p,d,q)\n",
    "\n",
    "def evaluate_arima_model(X, arima_order):\n",
    "    # prepare training dataset\n",
    "    train_size = int(len(X) * 0.66)\n",
    "    train, test = X[0:train_size], X[train_size:]\n",
    "    history = [x for x in train]\n",
    "    # make predictions\n",
    "    predictions = list()\n",
    "    for t in range(len(test)):\n",
    "        model = ARIMA(history, order=arima_order)\n",
    "        model_fit = model.fit()\n",
    "        yhat = model_fit.forecast()[0]\n",
    "        predictions.append(yhat)\n",
    "        history.append(test[t])\n",
    "    # calculate out of sample error\n",
    "    rmse = sqrt(mean_squared_error(test, predictions))\n",
    "    return rmse\n",
    "\n",
    "# evaluate combinations of p, d and q values for an ARIMA model\n",
    "def evaluate_models(dataset, p_values, d_values, q_values):\n",
    "    # Ensure the dataset is of type float32\n",
    "    dataset = dataset.astype('float32')\n",
    "     # Initialize best_score with positive infinity\n",
    "    best_score, best_cfg = float(\"inf\"), None\n",
    "    # Iterate over combinations of p, d, and q values\n",
    "    for p in p_values:\n",
    "        for d in d_values:\n",
    "            for q in q_values:\n",
    "                order = (p,d,q)\n",
    "                try:\n",
    "                    # Evaluate ARIMA model with the current order\n",
    "                    rmse = evaluate_arima_model(dataset, order)\n",
    "                     # Update best_score and best_cfg if a better combination is found\n",
    "                    if rmse < best_score:\n",
    "                        best_score, best_cfg = rmse, order\n",
    "                    # Uncomment the following line if you want to print RMSE for each combination\n",
    "                    #print('ARIMA%s RMSE=%.3f' % (order,rmse))\n",
    "                except:\n",
    "                     # Ignore exceptions and continue with the next combination\n",
    "                    continue\n",
    "     # Print the best ARIMA model configuration and its RMSE\n",
    "    print('Best ARIMA%s RMSE=%.3f' % (best_cfg, best_score))"
   ]
  },
  {
   "cell_type": "code",
   "execution_count": 8,
   "id": "acdae154",
   "metadata": {},
   "outputs": [
    {
     "name": "stdout",
     "output_type": "stream",
     "text": [
      "Best ARIMA(4, 1, 0) RMSE=0.001\n"
     ]
    }
   ],
   "source": [
    "series= pivot_country_year_world['Country_Year_Average']\n",
    "\n",
    "#p: the number of lag observations in the model; also known as the lag order.\n",
    "#d: the number of times that the raw observations are differenced; also known as the degree of differencing.\n",
    "#q: the size of the moving average window; also known as the order of the moving average.\n",
    "p_values = [0, 1, 2, 4, 6, 8, 10]\n",
    "d_values = range(0, 3)\n",
    "q_values = range(0, 3)\n",
    "evaluate_models(series.values, p_values, d_values, q_values)"
   ]
  },
  {
   "cell_type": "code",
   "execution_count": 9,
   "id": "deac8a92",
   "metadata": {},
   "outputs": [],
   "source": [
    "model = ARIMA(pivot_country_year_world['Country_Year_Average'], order=(4,1,0))\n",
    "\n",
    "# train model\n",
    "model_fit = model.fit()\n",
    "# make prediction\n",
    "predictions = model_fit.predict(start = len(pivot_country_year_world['Country_Year_Average'])-20, end = len(pivot_country_year_world['Country_Year_Average'])-1)"
   ]
  },
  {
   "cell_type": "code",
   "execution_count": 10,
   "id": "d4c62a81",
   "metadata": {},
   "outputs": [
    {
     "data": {
      "text/html": [
       "<div>\n",
       "<style scoped>\n",
       "    .dataframe tbody tr th:only-of-type {\n",
       "        vertical-align: middle;\n",
       "    }\n",
       "\n",
       "    .dataframe tbody tr th {\n",
       "        vertical-align: top;\n",
       "    }\n",
       "\n",
       "    .dataframe thead th {\n",
       "        text-align: right;\n",
       "    }\n",
       "</style>\n",
       "<table border=\"1\" class=\"dataframe\">\n",
       "  <thead>\n",
       "    <tr style=\"text-align: right;\">\n",
       "      <th></th>\n",
       "      <th>observed</th>\n",
       "      <th>predicted</th>\n",
       "    </tr>\n",
       "  </thead>\n",
       "  <tbody>\n",
       "    <tr>\n",
       "      <th>2002-01-01</th>\n",
       "      <td>0.7910</td>\n",
       "      <td>0.794500</td>\n",
       "    </tr>\n",
       "    <tr>\n",
       "      <th>2003-01-01</th>\n",
       "      <td>0.7875</td>\n",
       "      <td>0.788436</td>\n",
       "    </tr>\n",
       "    <tr>\n",
       "      <th>2004-01-01</th>\n",
       "      <td>0.7840</td>\n",
       "      <td>0.784914</td>\n",
       "    </tr>\n",
       "    <tr>\n",
       "      <th>2005-01-01</th>\n",
       "      <td>0.7805</td>\n",
       "      <td>0.780693</td>\n",
       "    </tr>\n",
       "    <tr>\n",
       "      <th>2006-01-01</th>\n",
       "      <td>0.7770</td>\n",
       "      <td>0.777091</td>\n",
       "    </tr>\n",
       "    <tr>\n",
       "      <th>2007-01-01</th>\n",
       "      <td>0.7735</td>\n",
       "      <td>0.773591</td>\n",
       "    </tr>\n",
       "    <tr>\n",
       "      <th>2008-01-01</th>\n",
       "      <td>0.7695</td>\n",
       "      <td>0.770091</td>\n",
       "    </tr>\n",
       "    <tr>\n",
       "      <th>2009-01-01</th>\n",
       "      <td>0.7650</td>\n",
       "      <td>0.765952</td>\n",
       "    </tr>\n",
       "    <tr>\n",
       "      <th>2010-01-01</th>\n",
       "      <td>0.7605</td>\n",
       "      <td>0.761439</td>\n",
       "    </tr>\n",
       "    <tr>\n",
       "      <th>2011-01-01</th>\n",
       "      <td>0.7580</td>\n",
       "      <td>0.756857</td>\n",
       "    </tr>\n",
       "    <tr>\n",
       "      <th>2012-01-01</th>\n",
       "      <td>0.7545</td>\n",
       "      <td>0.754438</td>\n",
       "    </tr>\n",
       "    <tr>\n",
       "      <th>2013-01-01</th>\n",
       "      <td>0.7500</td>\n",
       "      <td>0.749888</td>\n",
       "    </tr>\n",
       "    <tr>\n",
       "      <th>2014-01-01</th>\n",
       "      <td>0.7475</td>\n",
       "      <td>0.746199</td>\n",
       "    </tr>\n",
       "    <tr>\n",
       "      <th>2015-01-01</th>\n",
       "      <td>0.7450</td>\n",
       "      <td>0.745154</td>\n",
       "    </tr>\n",
       "    <tr>\n",
       "      <th>2016-01-01</th>\n",
       "      <td>0.7420</td>\n",
       "      <td>0.741198</td>\n",
       "    </tr>\n",
       "    <tr>\n",
       "      <th>2017-01-01</th>\n",
       "      <td>0.7375</td>\n",
       "      <td>0.738363</td>\n",
       "    </tr>\n",
       "    <tr>\n",
       "      <th>2018-01-01</th>\n",
       "      <td>0.7345</td>\n",
       "      <td>0.734635</td>\n",
       "    </tr>\n",
       "    <tr>\n",
       "      <th>2019-01-01</th>\n",
       "      <td>0.7325</td>\n",
       "      <td>0.732223</td>\n",
       "    </tr>\n",
       "    <tr>\n",
       "      <th>2020-01-01</th>\n",
       "      <td>0.7290</td>\n",
       "      <td>0.729229</td>\n",
       "    </tr>\n",
       "    <tr>\n",
       "      <th>2021-01-01</th>\n",
       "      <td>0.7250</td>\n",
       "      <td>0.724888</td>\n",
       "    </tr>\n",
       "  </tbody>\n",
       "</table>\n",
       "</div>"
      ],
      "text/plain": [
       "            observed  predicted\n",
       "2002-01-01    0.7910   0.794500\n",
       "2003-01-01    0.7875   0.788436\n",
       "2004-01-01    0.7840   0.784914\n",
       "2005-01-01    0.7805   0.780693\n",
       "2006-01-01    0.7770   0.777091\n",
       "2007-01-01    0.7735   0.773591\n",
       "2008-01-01    0.7695   0.770091\n",
       "2009-01-01    0.7650   0.765952\n",
       "2010-01-01    0.7605   0.761439\n",
       "2011-01-01    0.7580   0.756857\n",
       "2012-01-01    0.7545   0.754438\n",
       "2013-01-01    0.7500   0.749888\n",
       "2014-01-01    0.7475   0.746199\n",
       "2015-01-01    0.7450   0.745154\n",
       "2016-01-01    0.7420   0.741198\n",
       "2017-01-01    0.7375   0.738363\n",
       "2018-01-01    0.7345   0.734635\n",
       "2019-01-01    0.7325   0.732223\n",
       "2020-01-01    0.7290   0.729229\n",
       "2021-01-01    0.7250   0.724888"
      ]
     },
     "execution_count": 10,
     "metadata": {},
     "output_type": "execute_result"
    }
   ],
   "source": [
    "pd.DataFrame({'observed':pivot_country_year_world.Country_Year_Average[-20:], 'predicted':predictions})"
   ]
  },
  {
   "cell_type": "code",
   "execution_count": 11,
   "id": "1c7c93dd",
   "metadata": {},
   "outputs": [
    {
     "data": {
      "image/png": "[encoded data removed]",
      "text/plain": [
       "<Figure size 640x480 with 1 Axes>"
      ]
     },
     "metadata": {},
     "output_type": "display_data"
    }
   ],
   "source": [
    "plt.plot(pivot_country_year_world.Country_Year_Average[-20:])\n",
    "plt.plot(predictions)\n",
    "plt.show()"
   ]
  },
  {
   "cell_type": "code",
   "execution_count": 12,
   "id": "9c9d3184",
   "metadata": {},
   "outputs": [
    {
     "data": {
      "image/png": "[encoded data removed]",
      "text/plain": [
       "<Figure size 640x480 with 2 Axes>"
      ]
     },
     "metadata": {},
     "output_type": "display_data"
    }
   ],
   "source": [
    "import matplotlib.pyplot as plt\n",
    "residuals = model_fit.resid[1:]\n",
    "fig, ax = plt.subplots(1,2)\n",
    "residuals.plot(title='Residuals', ax=ax[0])\n",
    "residuals.plot(title='Density', kind='kde',ax=ax[1])\n",
    "plt.show()\n",
    "\n",
    "#residuals show the model has low amount of data but is well fitted + density is well distributed w/ mean around 0 "
   ]
  },
  {
   "cell_type": "code",
   "execution_count": 13,
   "id": "1097a0d3",
   "metadata": {},
   "outputs": [],
   "source": [
    "# creating dataset to apply my prevision in ARIMA\n",
    "\n",
    "from datetime import datetime, timedelta\n",
    "\n",
    "start_year = 2022\n",
    "end_year = 2200\n",
    "\n",
    "year_list = [year for year in range(start_year, end_year + 1)]"
   ]
  },
  {
   "cell_type": "code",
   "execution_count": 14,
   "id": "38491ede",
   "metadata": {
    "scrolled": true
   },
   "outputs": [],
   "source": [
    "#making prevision using ARIMA\n",
    "\n",
    "n_periods = len(year_list)\n",
    "fc = model_fit.forecast(n_periods, alpha=0.05)\n",
    "final_prediction=pd.DataFrame({'COU':'World','Prediction':fc}).reset_index().rename(columns={'index':'Year'})"
   ]
  },
  {
   "cell_type": "code",
   "execution_count": 15,
   "id": "4e0f2b61",
   "metadata": {},
   "outputs": [
    {
     "data": {
      "text/html": [
       "<div>\n",
       "<style scoped>\n",
       "    .dataframe tbody tr th:only-of-type {\n",
       "        vertical-align: middle;\n",
       "    }\n",
       "\n",
       "    .dataframe tbody tr th {\n",
       "        vertical-align: top;\n",
       "    }\n",
       "\n",
       "    .dataframe thead th {\n",
       "        text-align: right;\n",
       "    }\n",
       "</style>\n",
       "<table border=\"1\" class=\"dataframe\">\n",
       "  <thead>\n",
       "    <tr style=\"text-align: right;\">\n",
       "      <th></th>\n",
       "      <th>Year</th>\n",
       "      <th>COU</th>\n",
       "      <th>Prediction</th>\n",
       "    </tr>\n",
       "  </thead>\n",
       "  <tbody>\n",
       "    <tr>\n",
       "      <th>0</th>\n",
       "      <td>2022-01-01</td>\n",
       "      <td>World</td>\n",
       "      <td>0.722344</td>\n",
       "    </tr>\n",
       "    <tr>\n",
       "      <th>1</th>\n",
       "      <td>2023-01-01</td>\n",
       "      <td>World</td>\n",
       "      <td>0.720093</td>\n",
       "    </tr>\n",
       "    <tr>\n",
       "      <th>2</th>\n",
       "      <td>2024-01-01</td>\n",
       "      <td>World</td>\n",
       "      <td>0.716609</td>\n",
       "    </tr>\n",
       "    <tr>\n",
       "      <th>3</th>\n",
       "      <td>2025-01-01</td>\n",
       "      <td>World</td>\n",
       "      <td>0.712974</td>\n",
       "    </tr>\n",
       "    <tr>\n",
       "      <th>4</th>\n",
       "      <td>2026-01-01</td>\n",
       "      <td>World</td>\n",
       "      <td>0.710494</td>\n",
       "    </tr>\n",
       "    <tr>\n",
       "      <th>...</th>\n",
       "      <td>...</td>\n",
       "      <td>...</td>\n",
       "      <td>...</td>\n",
       "    </tr>\n",
       "    <tr>\n",
       "      <th>174</th>\n",
       "      <td>2196-01-01</td>\n",
       "      <td>World</td>\n",
       "      <td>0.437691</td>\n",
       "    </tr>\n",
       "    <tr>\n",
       "      <th>175</th>\n",
       "      <td>2197-01-01</td>\n",
       "      <td>World</td>\n",
       "      <td>0.436948</td>\n",
       "    </tr>\n",
       "    <tr>\n",
       "      <th>176</th>\n",
       "      <td>2198-01-01</td>\n",
       "      <td>World</td>\n",
       "      <td>0.436211</td>\n",
       "    </tr>\n",
       "    <tr>\n",
       "      <th>177</th>\n",
       "      <td>2199-01-01</td>\n",
       "      <td>World</td>\n",
       "      <td>0.435480</td>\n",
       "    </tr>\n",
       "    <tr>\n",
       "      <th>178</th>\n",
       "      <td>2200-01-01</td>\n",
       "      <td>World</td>\n",
       "      <td>0.434755</td>\n",
       "    </tr>\n",
       "  </tbody>\n",
       "</table>\n",
       "<p>179 rows × 3 columns</p>\n",
       "</div>"
      ],
      "text/plain": [
       "          Year    COU  Prediction\n",
       "0   2022-01-01  World    0.722344\n",
       "1   2023-01-01  World    0.720093\n",
       "2   2024-01-01  World    0.716609\n",
       "3   2025-01-01  World    0.712974\n",
       "4   2026-01-01  World    0.710494\n",
       "..         ...    ...         ...\n",
       "174 2196-01-01  World    0.437691\n",
       "175 2197-01-01  World    0.436948\n",
       "176 2198-01-01  World    0.436211\n",
       "177 2199-01-01  World    0.435480\n",
       "178 2200-01-01  World    0.434755\n",
       "\n",
       "[179 rows x 3 columns]"
      ]
     },
     "execution_count": 15,
     "metadata": {},
     "output_type": "execute_result"
    }
   ],
   "source": [
    "final_prediction"
   ]
  },
  {
   "cell_type": "code",
   "execution_count": 16,
   "id": "33aa8328",
   "metadata": {},
   "outputs": [
    {
     "name": "stdout",
     "output_type": "stream",
     "text": [
      "          Year    COU  Prediction\n",
      "110 2132-01-01  World    0.500263\n",
      "111 2133-01-01  World    0.499014\n",
      "112 2134-01-01  World    0.497778\n",
      "113 2135-01-01  World    0.496551\n",
      "114 2136-01-01  World    0.495332\n",
      "..         ...    ...         ...\n",
      "174 2196-01-01  World    0.437691\n",
      "175 2197-01-01  World    0.436948\n",
      "176 2198-01-01  World    0.436211\n",
      "177 2199-01-01  World    0.435480\n",
      "178 2200-01-01  World    0.434755\n",
      "\n",
      "[69 rows x 3 columns]\n"
     ]
    }
   ],
   "source": [
    "print(final_prediction[final_prediction['Prediction']<0.501111]) #2132 and 2133"
   ]
  },
  {
   "cell_type": "code",
   "execution_count": 17,
   "id": "b9e472ab",
   "metadata": {
    "scrolled": false
   },
   "outputs": [
    {
     "name": "stdout",
     "output_type": "stream",
     "text": [
      "            Country  2100_Bounded_Prediction\n",
      "0       Afghanistan                 0.818930\n",
      "1           Albania                 0.636480\n",
      "2           Algeria                 0.886647\n",
      "3    American Samoa                 0.798022\n",
      "4           Andorra                 0.899877\n",
      "..              ...                      ...\n",
      "235           World                 0.448227\n",
      "236           Yemen                 0.610842\n",
      "237          Zambia                 0.866130\n",
      "238        Zimbabwe                 0.760682\n",
      "239           Åland                 0.957310\n",
      "\n",
      "[240 rows x 2 columns]\n"
     ]
    }
   ],
   "source": [
    "#making prevision applying linear regression model \n",
    "\n",
    "# limit predictions within the range [0, 1]\n",
    "def bound_predictions(prediction):\n",
    "    return min(max(prediction, 0), 1)\n",
    "\n",
    "# Prepare a DataFrame to store bounded predictions for 2100\n",
    "bounded_predictions_2100 = pd.DataFrame(columns=['Country', '2100_Bounded_Prediction'])\n",
    "\n",
    "# Fit a linear regression model for each country and predict the value for 2100\n",
    "for country in pivot_country_year['Country'].unique():\n",
    "    # Filter the data for the current country\n",
    "    country_data = pivot_country_year[pivot_country_year['Country'] == country]\n",
    "    # Prepare the features (Year) and target (Country_Year_Average)\n",
    "    X = country_data[['Year']].values\n",
    "    Y = country_data['Country_Year_Average'].values\n",
    " \n",
    "    model = LinearRegression()\n",
    "    model.fit(X, Y)\n",
    "    \n",
    "    # Predict the value for 2100\n",
    "    prediction = model.predict(np.array([[2100]]))[0]\n",
    "    # Bound the prediction\n",
    "    bounded_prediction = bound_predictions(prediction)\n",
    "    # Append the bounded prediction to the DataFrame\n",
    "    bounded_predictions_2100 = bounded_predictions_2100.append({'Country': country, '2100_Bounded_Prediction': bounded_prediction}, ignore_index=True)\n",
    "\n",
    "print(bounded_predictions_2100)"
   ]
  },
  {
   "cell_type": "code",
   "execution_count": 95,
   "id": "8895f0d5",
   "metadata": {},
   "outputs": [],
   "source": [
    "#merging bounded_predictions_2100 & KPI: red_list_ind\n",
    "red_list_index = pd.read_excel(\"/Users/giacomorossini/Desktop/IRONHACK/Project2/FINAL/DATA/red-list-index.xlsx\")\n",
    "red_list_index.rename(columns={'Entity':'Country'}, inplace= True)\n",
    "bounded_pred_RLI= pd.merge(pivot_country_year, red_list_index, how='left', on=['Year','Country'])"
   ]
  },
  {
   "cell_type": "code",
   "execution_count": 97,
   "id": "7c273c24",
   "metadata": {},
   "outputs": [],
   "source": [
    "bounded_pred_RLI.to_excel(\"/Users/giacomorossini/Desktop/IRONHACK/Project2/FINAL/avg_cou_biod_2021_RLI.xlsx\", index=False)"
   ]
  },
  {
   "cell_type": "code",
   "execution_count": 98,
   "id": "92fd66b2",
   "metadata": {},
   "outputs": [],
   "source": [
    "bounded_predictions_2100.to_excel(\"/Users/giacomorossini/Desktop/IRONHACK/Project2/FINAL/bounded_predictions_2100.xlsx\", index=False)"
   ]
  },
  {
   "cell_type": "code",
   "execution_count": 99,
   "id": "8a981f7e",
   "metadata": {},
   "outputs": [],
   "source": [
    "final_prediction.to_excel(\"/Users/giacomorossini/Desktop/IRONHACK/Project2/FINAL/ARIMA_forecast_world.xlsx\", index=False)"
   ]
  }
 ],
 "metadata": {
  "kernelspec": {
   "display_name": "Python 3 (ipykernel)",
   "language": "python",
   "name": "python3"
  },
  "language_info": {
   "codemirror_mode": {
    "name": "ipython",
    "version": 3
   },
   "file_extension": ".py",
   "mimetype": "text/x-python",
   "name": "python",
   "nbconvert_exporter": "python",
   "pygments_lexer": "ipython3",
   "version": "3.11.5"
  }
 },
 "nbformat": 4,
 "nbformat_minor": 5
}
